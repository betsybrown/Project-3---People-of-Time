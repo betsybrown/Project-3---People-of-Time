{
 "cells": [
  {
   "cell_type": "code",
   "execution_count": 9,
   "metadata": {},
   "outputs": [],
   "source": [
    "from splinter import Browser\n",
    "from bs4 import BeautifulSoup as bs\n",
    "import pandas as pd"
   ]
  },
  {
   "cell_type": "code",
   "execution_count": 10,
   "metadata": {},
   "outputs": [],
   "source": [
    "executable_path = {'executable_path': 'chromedriver.exe'}\n",
    "browser=Browser(\"chrome\", **executable_path, headless=False)"
   ]
  },
  {
   "cell_type": "code",
   "execution_count": 11,
   "metadata": {},
   "outputs": [],
   "source": [
    "# create function soup for the usniversal usage for several urls\n",
    "def soup(url):\n",
    "    browser.visit(url)\n",
    "    html=browser.html\n",
    "    soup=bs(html,'lxml')\n",
    "    return soup"
   ]
  },
  {
   "cell_type": "code",
   "execution_count": null,
   "metadata": {},
   "outputs": [],
   "source": [
    "# all the urls we will use\n",
    "url1=\"https://en.wikipedia.org/wiki/List_of_covers_of_Time_magazine_(1970s)\"\n",
    "url2=\"https://en.wikipedia.org/wiki/List_of_covers_of_Time_magazine_(1980s)\"\n",
    "url3=\"https://en.wikipedia.org/wiki/List_of_covers_of_Time_magazine_(1990s)\"\n",
    "url4=\"https://en.wikipedia.org/wiki/List_of_covers_of_Time_magazine_(2000s)\"\n",
    "url5=\"https://en.wikipedia.org/wiki/List_of_covers_of_Time_magazine_(2010s)\""
   ]
  },
  {
   "cell_type": "markdown",
   "metadata": {},
   "source": [
    "### 1970s,1980s"
   ]
  },
  {
   "cell_type": "code",
   "execution_count": null,
   "metadata": {},
   "outputs": [],
   "source": [
    "# create a function 'titleA' for getting the names in 1970s and 1980s\n",
    "def titleA(soup):\n",
    "    category = soup.find_all('div', class_='div-col columns column-width')\n",
    "    names=[]\n",
    "    for lists in category:\n",
    "        lis = lists.find_all('li')\n",
    "        for l in lis:\n",
    "            try:\n",
    "                cover_name=l.find('a').attrs['title']\n",
    "#                print(cover_name)\n",
    "                names.append(cover_name)               \n",
    "            except:\n",
    "                pass\n",
    "        return names"
   ]
  },
  {
   "cell_type": "code",
   "execution_count": null,
   "metadata": {},
   "outputs": [],
   "source": [
    "titleA(soup(url1))"
   ]
  },
  {
   "cell_type": "code",
   "execution_count": null,
   "metadata": {},
   "outputs": [],
   "source": [
    "titleA(soup(url2))"
   ]
  },
  {
   "cell_type": "markdown",
   "metadata": {},
   "source": [
    "### 1990s, 2000s, 2010s"
   ]
  },
  {
   "cell_type": "code",
   "execution_count": null,
   "metadata": {},
   "outputs": [],
   "source": [
    "# create a function 'titleB' for getting the names in 1990s-2010s\n",
    "def titleB(soup):\n",
    "    category = soup.find_all('table', class_=\"wikitable\")\n",
    "    names=[]\n",
    "    for lists in category:\n",
    "        lis = lists.find_all('td')\n",
    "        for l in lis:\n",
    "            try:\n",
    "                cover_name=l.find('a').attrs['title']\n",
    "#                print (cover_name)\n",
    "                names.append(cover_name)\n",
    "            except:\n",
    "                pass\n",
    "        return names"
   ]
  },
  {
   "cell_type": "code",
   "execution_count": null,
   "metadata": {},
   "outputs": [],
   "source": [
    "titleB(soup(url3))"
   ]
  },
  {
   "cell_type": "code",
   "execution_count": null,
   "metadata": {},
   "outputs": [],
   "source": [
    "titleB(soup(url4))"
   ]
  },
  {
   "cell_type": "code",
   "execution_count": null,
   "metadata": {},
   "outputs": [],
   "source": [
    "titleB(soup(url5))"
   ]
  },
  {
   "cell_type": "code",
   "execution_count": null,
   "metadata": {},
   "outputs": [],
   "source": []
  },
  {
   "cell_type": "code",
   "execution_count": 21,
   "metadata": {},
   "outputs": [],
   "source": []
  }
 ],
 "metadata": {
  "kernelspec": {
   "display_name": "Python 3",
   "language": "python",
   "name": "python3"
  },
  "language_info": {
   "codemirror_mode": {
    "name": "ipython",
    "version": 3
   },
   "file_extension": ".py",
   "mimetype": "text/x-python",
   "name": "python",
   "nbconvert_exporter": "python",
   "pygments_lexer": "ipython3",
   "version": "3.7.1"
  }
 },
 "nbformat": 4,
 "nbformat_minor": 2
}
